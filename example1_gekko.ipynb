{
 "cells": [
  {
   "cell_type": "markdown",
   "metadata": {},
   "source": [
    "https://apmonitor.com/wiki/index.php/Main/GekkoPythonOptimization"
   ]
  },
  {
   "cell_type": "code",
   "execution_count": 1,
   "metadata": {},
   "outputs": [],
   "source": [
    "from gekko import GEKKO"
   ]
  },
  {
   "cell_type": "code",
   "execution_count": 2,
   "metadata": {},
   "outputs": [],
   "source": [
    "m = GEKKO(remote=False)"
   ]
  },
  {
   "cell_type": "markdown",
   "metadata": {},
   "source": [
    "\\begin{split}max  & & 350x_a + 300x_b  \\\\\n",
    "s.t. & & x_a+x_b<=200 \\\\\n",
    "             & & 9x_a + 6 x_b<=1566 \\\\\n",
    "         & & 12x_a + 16x_b<=2880 \\\\\n",
    "         & & x_a >=0 \\\\\n",
    "         & & x_b >=0 \\end{split}"
   ]
  },
  {
   "cell_type": "code",
   "execution_count": 32,
   "metadata": {},
   "outputs": [],
   "source": [
    "#define parameter\n",
    "m.solver_options = ['linear_solver ma97']"
   ]
  },
  {
   "cell_type": "code",
   "execution_count": 33,
   "metadata": {},
   "outputs": [],
   "source": [
    "xa,xb = [m.Var(value = 10,lb = 0) for i in range(2)]"
   ]
  },
  {
   "cell_type": "code",
   "execution_count": 34,
   "metadata": {},
   "outputs": [],
   "source": [
    "m.Equation(xa+xb<=200)\n",
    "m.Equation(9*xa+6*xb<=1566)\n",
    "m.Equation(12*xa+16*xb<=2880)\n",
    "m.Obj(-(350*xa+300*xb))"
   ]
  },
  {
   "cell_type": "code",
   "execution_count": 35,
   "metadata": {},
   "outputs": [],
   "source": [
    "m.options.IMODE = 3 # Steady state optimization\n",
    "m.solve(disp=False)"
   ]
  },
  {
   "cell_type": "code",
   "execution_count": 36,
   "metadata": {},
   "outputs": [
    {
     "name": "stdout",
     "output_type": "stream",
     "text": [
      "xa: [122.0]\n",
      "xb: [78.0]\n",
      "Objective: -198300.0\n"
     ]
    }
   ],
   "source": [
    "print('xa: ' + str(xa.value))\n",
    "print('xb: ' + str(xb.value))\n",
    "print('Objective: ' + str(m.options.objfcnval))"
   ]
  },
  {
   "cell_type": "markdown",
   "metadata": {},
   "source": [
    "https://gekko.readthedocs.io/en/latest/global.html?highlight=max"
   ]
  },
  {
   "cell_type": "code",
   "execution_count": null,
   "metadata": {},
   "outputs": [],
   "source": []
  }
 ],
 "metadata": {
  "kernelspec": {
   "display_name": "Python 3",
   "language": "python",
   "name": "python3"
  },
  "language_info": {
   "codemirror_mode": {
    "name": "ipython",
    "version": 3
   },
   "file_extension": ".py",
   "mimetype": "text/x-python",
   "name": "python",
   "nbconvert_exporter": "python",
   "pygments_lexer": "ipython3",
   "version": "3.6.4"
  }
 },
 "nbformat": 4,
 "nbformat_minor": 2
}
