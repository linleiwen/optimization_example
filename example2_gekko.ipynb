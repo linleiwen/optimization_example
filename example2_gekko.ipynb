{
 "cells": [
  {
   "cell_type": "code",
   "execution_count": 4,
   "metadata": {},
   "outputs": [],
   "source": [
    "from gekko import GEKKO"
   ]
  },
  {
   "cell_type": "code",
   "execution_count": 18,
   "metadata": {},
   "outputs": [],
   "source": [
    "m = GEKKO(remote=False)"
   ]
  },
  {
   "cell_type": "markdown",
   "metadata": {},
   "source": [
    "\\begin{split}min  & & x_1 x_4 (x_1 + x_2 + x_3) + x_3 \\\\\n",
    "s.t. & & x_1 x_2 x_3 x_4 >= 25 \\\\\n",
    "             & & x_1^2 + x_2^2 + x_3^2 + x_4^2 = 40 \\\\\n",
    "         & & 1 <= x_1,x_2,x_3,x_4 <= 5 \\\\\n",
    "         & & x_0 = (1,5,5,1)\\end{split}"
   ]
  },
  {
   "cell_type": "code",
   "execution_count": 19,
   "metadata": {},
   "outputs": [],
   "source": [
    "#define parameter\n",
    "eq = m.Param(value=40)"
   ]
  },
  {
   "cell_type": "code",
   "execution_count": 20,
   "metadata": {},
   "outputs": [],
   "source": [
    "x1,x2,x3,x4 = [m.Var() for i in range(4)]"
   ]
  },
  {
   "cell_type": "code",
   "execution_count": 21,
   "metadata": {},
   "outputs": [],
   "source": [
    "#initial values\n",
    "x1.value = 1\n",
    "x2.value = 5\n",
    "x3.value = 5\n",
    "x4.value = 1"
   ]
  },
  {
   "cell_type": "code",
   "execution_count": 22,
   "metadata": {},
   "outputs": [],
   "source": [
    "#lower bounds\n",
    "x1.lower = 1\n",
    "x2.lower = 1\n",
    "x3.lower = 1\n",
    "x4.lower = 1\n",
    "\n",
    "#upper bounds\n",
    "x1.upper = 5\n",
    "x2.upper = 5\n",
    "x3.upper = 5\n",
    "x4.upper = 5"
   ]
  },
  {
   "cell_type": "code",
   "execution_count": 23,
   "metadata": {},
   "outputs": [
    {
     "data": {
      "text/plain": [
       "<gekko.gekko.EquationObj at 0x7a63b70>"
      ]
     },
     "execution_count": 23,
     "metadata": {},
     "output_type": "execute_result"
    }
   ],
   "source": [
    "#Equations\n",
    "m.Equation(x1*x2*x3*x4>=25)\n",
    "m.Equation(x1**2+x2**2+x3**2+x4**2==eq)"
   ]
  },
  {
   "cell_type": "code",
   "execution_count": 24,
   "metadata": {},
   "outputs": [],
   "source": [
    "#Objective\n",
    "m.Obj(x1*x4*(x1+x2+x3)+x3)"
   ]
  },
  {
   "cell_type": "markdown",
   "metadata": {},
   "source": [
    "https://gekko.readthedocs.io/en/latest/global.html?highlight=max"
   ]
  },
  {
   "cell_type": "code",
   "execution_count": 42,
   "metadata": {},
   "outputs": [],
   "source": [
    "#Set global options\n",
    "m.options.IMODE = 3 #steady state optimization "
   ]
  },
  {
   "cell_type": "code",
   "execution_count": 43,
   "metadata": {},
   "outputs": [
    {
     "name": "stdout",
     "output_type": "stream",
     "text": [
      " ----------------------------------------------------------------\n",
      " APMonitor, Version 0.8.4\n",
      " APMonitor Optimization Suite\n",
      " ----------------------------------------------------------------\n",
      " \n",
      " \n",
      " --------- APM Model Size ------------\n",
      " Each time step contains\n",
      "   Objects      :  0\n",
      "   Constants    :  0\n",
      "   Variables    :  6\n",
      "   Intermediates:  0\n",
      "   Connections  :  0\n",
      "   Equations    :  3\n",
      "   Residuals    :  3\n",
      " \n",
      " Number of state variables:    5\n",
      " Number of total equations: -  2\n",
      " Number of slack variables: -  1\n",
      " ---------------------------------------\n",
      " Degrees of freedom       :    2\n",
      " \n",
      " **********************************************\n",
      " Steady State Optimization with Interior Point Solver\n",
      " **********************************************\n",
      "  \n",
      "  \n",
      " Info: Exact Hessian\n",
      "\n",
      "******************************************************************************\n",
      "This program contains Ipopt, a library for large-scale nonlinear optimization.\n",
      " Ipopt is released as open source code under the Eclipse Public License (EPL).\n",
      "         For more information visit http://projects.coin-or.org/Ipopt\n",
      "******************************************************************************\n",
      "\n",
      "This is Ipopt version 3.10.2, running with linear solver mumps.\n",
      "\n",
      "Number of nonzeros in equality constraint Jacobian...:        9\n",
      "Number of nonzeros in inequality constraint Jacobian.:        0\n",
      "Number of nonzeros in Lagrangian Hessian.............:       10\n",
      "\n",
      "Total number of variables............................:        5\n",
      "                     variables with only lower bounds:        1\n",
      "                variables with lower and upper bounds:        4\n",
      "                     variables with only upper bounds:        0\n",
      "Total number of equality constraints.................:        2\n",
      "Total number of inequality constraints...............:        0\n",
      "        inequality constraints with only lower bounds:        0\n",
      "   inequality constraints with lower and upper bounds:        0\n",
      "        inequality constraints with only upper bounds:        0\n",
      "\n",
      "iter    objective    inf_pr   inf_du lg(mu)  ||d||  lg(rg) alpha_du alpha_pr  ls\n",
      "   0 1.6109693e+001 1.12e+001 5.28e-001   0.0 0.00e+000    -  0.00e+000 0.00e+000   0\n",
      "   1 1.7172877e+001 7.73e-001 2.21e+001  -0.3 6.12e-001    -  3.43e-001 1.00e+000f  1\n",
      "   2 1.7723530e+001 1.00e-002 4.87e+000  -0.3 5.49e-002   2.0 9.98e-001 1.00e+000h  1\n",
      "   3 1.7355265e+001 1.07e-001 3.81e-001  -1.0 2.11e-001    -  9.98e-001 1.00e+000f  1\n",
      "   4 1.6952330e+001 1.88e-001 3.82e-002  -1.4 2.86e-001    -  9.63e-001 1.00e+000h  1\n",
      "   5 1.7002773e+001 2.53e-002 8.30e-003  -2.8 6.15e-002    -  9.70e-001 1.00e+000h  1\n",
      "   6 1.7013927e+001 3.77e-004 1.40e-004  -4.4 7.83e-003    -  9.98e-001 1.00e+000h  1\n",
      "   7 1.7014017e+001 5.47e-007 4.19e-007 -10.2 1.99e-004    -  9.99e-001 1.00e+000h  1\n",
      "\n",
      "Number of Iterations....: 7\n",
      "\n",
      "                                   (scaled)                 (unscaled)\n",
      "Objective...............:  1.7014017067903609e+001   1.7014017067903609e+001\n",
      "Dual infeasibility......:  4.1854893871621555e-007   4.1854893871621555e-007\n",
      "Constraint violation....:  5.4709521579124347e-007   5.4709521579124347e-007\n",
      "Complementarity.........:  2.3684061023054464e-007   2.3684061023054464e-007\n",
      "Overall NLP error.......:  5.4709521579124347e-007   5.4709521579124347e-007\n",
      "\n",
      "\n",
      "Number of objective function evaluations             = 8\n",
      "Number of objective gradient evaluations             = 8\n",
      "Number of equality constraint evaluations            = 8\n",
      "Number of inequality constraint evaluations          = 0\n",
      "Number of equality constraint Jacobian evaluations   = 8\n",
      "Number of inequality constraint Jacobian evaluations = 0\n",
      "Number of Lagrangian Hessian evaluations             = 7\n",
      "Total CPU secs in IPOPT (w/o function evaluations)   =      0.025\n",
      "Total CPU secs in NLP function evaluations           =      0.002\n",
      "\n",
      "EXIT: Optimal Solution Found.\n",
      "\n",
      " The solution was found.\n",
      "\n",
      " The final value of the objective function is  17.01401706790361\n",
      " \n",
      " ---------------------------------------------------\n",
      " Solver         :  IPOPT (v3.9)\n",
      " Solution time  :  0.05400000000000002 sec\n",
      " Objective      :  17.01401706790361\n",
      " Successful solution\n",
      " ---------------------------------------------------\n",
      " \n"
     ]
    }
   ],
   "source": [
    "temp = m.solve()"
   ]
  },
  {
   "cell_type": "code",
   "execution_count": 44,
   "metadata": {},
   "outputs": [
    {
     "name": "stdout",
     "output_type": "stream",
     "text": [
      "\n",
      "Results\n",
      "x1: [1.0]\n",
      "x2: [4.743]\n",
      "x3: [3.82115]\n",
      "x4: [1.379408]\n"
     ]
    }
   ],
   "source": [
    "print('')\n",
    "print('Results')\n",
    "print('x1: ' + str(x1.value))\n",
    "print('x2: ' + str(x2.value))\n",
    "print('x3: ' + str(x3.value))\n",
    "print('x4: ' + str(x4.value))"
   ]
  },
  {
   "cell_type": "code",
   "execution_count": 38,
   "metadata": {},
   "outputs": [],
   "source": [
    "temp = x1.value"
   ]
  },
  {
   "cell_type": "code",
   "execution_count": 40,
   "metadata": {},
   "outputs": [
    {
     "data": {
      "text/plain": [
       "1.0"
      ]
     },
     "execution_count": 40,
     "metadata": {},
     "output_type": "execute_result"
    }
   ],
   "source": [
    "temp."
   ]
  },
  {
   "cell_type": "code",
   "execution_count": null,
   "metadata": {},
   "outputs": [],
   "source": []
  }
 ],
 "metadata": {
  "kernelspec": {
   "display_name": "Python 3",
   "language": "python",
   "name": "python3"
  },
  "language_info": {
   "codemirror_mode": {
    "name": "ipython",
    "version": 3
   },
   "file_extension": ".py",
   "mimetype": "text/x-python",
   "name": "python",
   "nbconvert_exporter": "python",
   "pygments_lexer": "ipython3",
   "version": "3.6.4"
  }
 },
 "nbformat": 4,
 "nbformat_minor": 2
}
